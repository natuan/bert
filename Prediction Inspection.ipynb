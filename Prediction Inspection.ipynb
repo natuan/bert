{
 "cells": [
  {
   "cell_type": "code",
   "execution_count": 1,
   "metadata": {},
   "outputs": [],
   "source": [
    "import os\n",
    "import pandas as pd\n",
    "\n",
    "%load_ext autoreload\n",
    "%autoreload 1\n",
    "\n",
    "%aimport myvisual\n",
    "import myvisual as vs\n",
    "\n",
    "# Pretty display for notebooks\n",
    "%matplotlib inline"
   ]
  },
  {
   "cell_type": "code",
   "execution_count": 2,
   "metadata": {},
   "outputs": [],
   "source": [
    "SESSION_DIR = '/Users/tnguyen/src/bert/JUL17_B/'\n",
    "OUTPUT_DIR = os.path.join(SESSION_DIR, 'outputs_drop04_lr03e-5_steps10_ls01')"
   ]
  },
  {
   "cell_type": "markdown",
   "metadata": {},
   "source": [
    "# Training data set"
   ]
  },
  {
   "cell_type": "code",
   "execution_count": 3,
   "metadata": {},
   "outputs": [],
   "source": [
    "train_df = pd.read_csv(os.path.join(SESSION_DIR, 'train.csv'))\n",
    "dev_df = pd.read_csv(os.path.join(SESSION_DIR, 'dev.csv'))\n",
    "train_df = pd.concat([train_df, dev_df])"
   ]
  },
  {
   "cell_type": "code",
   "execution_count": 4,
   "metadata": {},
   "outputs": [
    {
     "data": {
      "text/html": [
       "<div>\n",
       "<style scoped>\n",
       "    .dataframe tbody tr th:only-of-type {\n",
       "        vertical-align: middle;\n",
       "    }\n",
       "\n",
       "    .dataframe tbody tr th {\n",
       "        vertical-align: top;\n",
       "    }\n",
       "\n",
       "    .dataframe thead th {\n",
       "        text-align: right;\n",
       "    }\n",
       "</style>\n",
       "<table border=\"1\" class=\"dataframe\">\n",
       "  <thead>\n",
       "    <tr style=\"text-align: right;\">\n",
       "      <th></th>\n",
       "      <th>job_id</th>\n",
       "      <th>job_text</th>\n",
       "      <th>level1_id</th>\n",
       "    </tr>\n",
       "  </thead>\n",
       "  <tbody>\n",
       "    <tr>\n",
       "      <th>0</th>\n",
       "      <td>5aff17d812f61b67f06afc3a</td>\n",
       "      <td>sr information architect ¥ summary role evalua...</td>\n",
       "      <td>18</td>\n",
       "    </tr>\n",
       "    <tr>\n",
       "      <th>1</th>\n",
       "      <td>5898ea11bcaee36edce75244</td>\n",
       "      <td>iam controls compliance analyst ¥ position sum...</td>\n",
       "      <td>20</td>\n",
       "    </tr>\n",
       "    <tr>\n",
       "      <th>2</th>\n",
       "      <td>57fffbfad20baf05d08aa807</td>\n",
       "      <td>maintenance manager ¥ maintenance manager come...</td>\n",
       "      <td>15</td>\n",
       "    </tr>\n",
       "    <tr>\n",
       "      <th>3</th>\n",
       "      <td>5bc7645b12f61b65c930c786</td>\n",
       "      <td>supervisor utilization management rn preferred...</td>\n",
       "      <td>16</td>\n",
       "    </tr>\n",
       "    <tr>\n",
       "      <th>4</th>\n",
       "      <td>5a8afab012f61b09d6217d68</td>\n",
       "      <td>oconus support engineer ¥ opportunity support ...</td>\n",
       "      <td>19</td>\n",
       "    </tr>\n",
       "  </tbody>\n",
       "</table>\n",
       "</div>"
      ],
      "text/plain": [
       "                     job_id  \\\n",
       "0  5aff17d812f61b67f06afc3a   \n",
       "1  5898ea11bcaee36edce75244   \n",
       "2  57fffbfad20baf05d08aa807   \n",
       "3  5bc7645b12f61b65c930c786   \n",
       "4  5a8afab012f61b09d6217d68   \n",
       "\n",
       "                                            job_text  level1_id  \n",
       "0  sr information architect ¥ summary role evalua...         18  \n",
       "1  iam controls compliance analyst ¥ position sum...         20  \n",
       "2  maintenance manager ¥ maintenance manager come...         15  \n",
       "3  supervisor utilization management rn preferred...         16  \n",
       "4  oconus support engineer ¥ opportunity support ...         19  "
      ]
     },
     "execution_count": 4,
     "metadata": {},
     "output_type": "execute_result"
    }
   ],
   "source": [
    "train_df.head()"
   ]
  },
  {
   "cell_type": "code",
   "execution_count": 75,
   "metadata": {},
   "outputs": [
    {
     "data": {
      "text/plain": [
       "'master arts counseling program director ¥ job summary master arts counseling mac program director oversees aspects mac degree program including curriculum clinical practicum internships faculty training development student assessment council accreditation counseling related educational programs cacrep accreditation program director contact point student staff faculty issues prior escalation dean mac program director maintains core faculty status faculty rank assigned according colorado christian university faculty handbook duties responsibilities serves liaison cacrep primary point person communications university cacrep responsible daytoday operations mac program supervision dean social science humanities supervise support clinical coordinator maintain curriculum development oversight courses mac program oversee inseat online delivery mac program interview new fulltime affiliate faculty assigned dean oversee student learning assessment developing modifying needed executing mac assessment plan write annual mac assessment report chair mac admission committee serve committees assigned dean oversee conduct appropriate training specific mac program including enrollment marketing student service advisor training address student faculty concerns prior issue escalation dean maintain currency department regulatory agencies dora regulations cacrep standards association counselor education supervision aces best practices american counseling association aca ethical standards review submit dean approval mac related documents handbook forms collateral material website revisions etc coordinate mac committee meetings teach develop annual load credit hours reflects credit hour load reduction administrative responsibilities work hours adjusted reflect inseat online teaching responsibilities appropriate duties assigned dean knowledge skills abilities terminal degree counselor education supervision regionally accredited collegeuniversity cacrep accreditation preferred state colorado department regulatory agencies dora licensed professional counselor lpc license required teaching clinical counseling experience required includes two years clinical experience variety counseling settings knowledge ethical standards practice ability effectively teach demonstrate superior oral interpersonal written communication skills including ability communicate effectively work cooperatively ccu community ministry partners corporate partners general audiences interested related counseling program demonstrate competence variety computer applications including ms office suite blackboard software used mac program understanding adult learning distance learning theory exhibit servant spirit behavior nature work environment performing duties job may required walk stand sit reach hands arms balance stoop speak clarity appropriate vision hearing capabilities tasks involve ability exert light physical effort sedentary light work may involve lifting carrying moving pushing andor pulling objectsmaterials lightweight pounds work occasional irregular hours including nights weekends local regional travel may expected tasks may involve extended periods keyboard workstation'"
      ]
     },
     "execution_count": 75,
     "metadata": {},
     "output_type": "execute_result"
    }
   ],
   "source": [
    "label12_df = train_df[train_df['level1_id']==12]\n",
    "label12_df['job_text'].iloc[0]"
   ]
  },
  {
   "cell_type": "markdown",
   "metadata": {},
   "source": [
    "## Number of jobs per class"
   ]
  },
  {
   "cell_type": "code",
   "execution_count": 112,
   "metadata": {},
   "outputs": [
    {
     "data": {
      "image/png": "[encoded data removed]",
      "text/plain": [
       "<Figure size 1080x576 with 1 Axes>"
      ]
     },
     "metadata": {
      "needs_background": "light"
     },
     "output_type": "display_data"
    }
   ],
   "source": [
    "vs.plot_job_count(train_df, figsize=(15,8))"
   ]
  },
  {
   "cell_type": "markdown",
   "metadata": {},
   "source": [
    "# Prediction"
   ]
  },
  {
   "cell_type": "code",
   "execution_count": 85,
   "metadata": {},
   "outputs": [],
   "source": [
    "CKPT_STEP = 8800"
   ]
  },
  {
   "cell_type": "code",
   "execution_count": 87,
   "metadata": {},
   "outputs": [],
   "source": [
    "train_predict = pd.read_csv(os.path.join(OUTPUT_DIR, f'train_predict_{CKPT_STEP}.csv'))\n",
    "dev_predict = pd.read_csv(os.path.join(OUTPUT_DIR, f'dev_predict_{CKPT_STEP}.csv'))\n",
    "test_predict = pd.read_csv(os.path.join(OUTPUT_DIR, f'test_predict_{CKPT_STEP}.csv'))"
   ]
  },
  {
   "cell_type": "code",
   "execution_count": 118,
   "metadata": {},
   "outputs": [
    {
     "data": {
      "image/png": "[encoded data removed]",
      "text/plain": [
       "<Figure size 864x576 with 1 Axes>"
      ]
     },
     "metadata": {
      "needs_background": "light"
     },
     "output_type": "display_data"
    }
   ],
   "source": [
    "vs.plot_accuracy(train_predict, figsize=(12,8))"
   ]
  },
  {
   "cell_type": "code",
   "execution_count": 88,
   "metadata": {},
   "outputs": [],
   "source": [
    "train_predict['correct'] = train_predict['predicted_label'] == train_predict['label']\n",
    "dev_predict['correct'] = dev_predict['predicted_label'] == dev_predict['label']\n",
    "test_predict['correct'] = test_predict['predicted_label'] == test_predict['label']"
   ]
  },
  {
   "cell_type": "code",
   "execution_count": 89,
   "metadata": {},
   "outputs": [],
   "source": [
    "def class_accuracy(predict_df):\n",
    "    predict_df['correct'] = predict_df['predicted_label'] == predict_df['label']\n",
    "    class_count = predict_df.groupby('label').job_id.count()\n",
    "    correct_count = predict_df.groupby('label').correct.sum()\n",
    "    class_acc = 100 * correct_count / class_count\n",
    "    class_acc.sort_values(ascending=False, inplace=True)\n",
    "    return class_acc"
   ]
  },
  {
   "cell_type": "code",
   "execution_count": 90,
   "metadata": {},
   "outputs": [
    {
     "data": {
      "text/html": [
       "<div>\n",
       "<style scoped>\n",
       "    .dataframe tbody tr th:only-of-type {\n",
       "        vertical-align: middle;\n",
       "    }\n",
       "\n",
       "    .dataframe tbody tr th {\n",
       "        vertical-align: top;\n",
       "    }\n",
       "\n",
       "    .dataframe thead th {\n",
       "        text-align: right;\n",
       "    }\n",
       "</style>\n",
       "<table border=\"1\" class=\"dataframe\">\n",
       "  <thead>\n",
       "    <tr style=\"text-align: right;\">\n",
       "      <th></th>\n",
       "      <th>job_id</th>\n",
       "      <th>predicted_label</th>\n",
       "      <th>label</th>\n",
       "      <th>correct</th>\n",
       "    </tr>\n",
       "  </thead>\n",
       "  <tbody>\n",
       "    <tr>\n",
       "      <th>0</th>\n",
       "      <td>5aff17d812f61b67f06afc3a</td>\n",
       "      <td>18</td>\n",
       "      <td>18</td>\n",
       "      <td>True</td>\n",
       "    </tr>\n",
       "    <tr>\n",
       "      <th>1</th>\n",
       "      <td>5898ea11bcaee36edce75244</td>\n",
       "      <td>18</td>\n",
       "      <td>20</td>\n",
       "      <td>False</td>\n",
       "    </tr>\n",
       "    <tr>\n",
       "      <th>2</th>\n",
       "      <td>57fffbfad20baf05d08aa807</td>\n",
       "      <td>15</td>\n",
       "      <td>15</td>\n",
       "      <td>True</td>\n",
       "    </tr>\n",
       "    <tr>\n",
       "      <th>3</th>\n",
       "      <td>5bc7645b12f61b65c930c786</td>\n",
       "      <td>16</td>\n",
       "      <td>16</td>\n",
       "      <td>True</td>\n",
       "    </tr>\n",
       "    <tr>\n",
       "      <th>4</th>\n",
       "      <td>5a8afab012f61b09d6217d68</td>\n",
       "      <td>19</td>\n",
       "      <td>19</td>\n",
       "      <td>True</td>\n",
       "    </tr>\n",
       "  </tbody>\n",
       "</table>\n",
       "</div>"
      ],
      "text/plain": [
       "                     job_id  predicted_label  label  correct\n",
       "0  5aff17d812f61b67f06afc3a               18     18     True\n",
       "1  5898ea11bcaee36edce75244               18     20    False\n",
       "2  57fffbfad20baf05d08aa807               15     15     True\n",
       "3  5bc7645b12f61b65c930c786               16     16     True\n",
       "4  5a8afab012f61b09d6217d68               19     19     True"
      ]
     },
     "execution_count": 90,
     "metadata": {},
     "output_type": "execute_result"
    }
   ],
   "source": [
    "train_predict.head()"
   ]
  },
  {
   "cell_type": "code",
   "execution_count": 91,
   "metadata": {},
   "outputs": [
    {
     "data": {
      "text/plain": [
       "15"
      ]
     },
     "execution_count": 91,
     "metadata": {},
     "output_type": "execute_result"
    }
   ],
   "source": [
    "len(train_predict[train_predict['label']==12])"
   ]
  },
  {
   "cell_type": "markdown",
   "metadata": {},
   "source": [
    "## Percentage of correct prediction on training set"
   ]
  },
  {
   "cell_type": "code",
   "execution_count": 60,
   "metadata": {},
   "outputs": [
    {
     "name": "stdout",
     "output_type": "stream",
     "text": [
      "      count unique    top  freq      acc\n",
      "label                                   \n",
      "1       153      2   True   133  86.9281\n",
      "2         4      2   True     2       50\n",
      "3        34      2   True    30  88.2353\n",
      "4        56      2   True    45  80.3571\n",
      "5        68      2   True    54  79.4118\n",
      "6       966      2   True   915  94.7205\n",
      "7       657      2   True   627  95.4338\n",
      "9       110      2   True   100  90.9091\n",
      "10     2230      2   True  2148  96.3229\n",
      "11      115      2   True    86  74.7826\n",
      "12       15      1  False    15      100\n",
      "13       74      2   True    51  68.9189\n",
      "14      119      2   True   105  88.2353\n",
      "15      369      2   True   353   95.664\n",
      "16       50      2   True    32       64\n",
      "17       28      2  False    22  78.5714\n",
      "18     2706      2   True  2632  97.2653\n",
      "19      581      2   True   509  87.6076\n",
      "20      817      2   True   736  90.0857\n",
      "21      223      2   True   194  86.9955\n",
      "22       37      2   True    24  64.8649\n",
      "23       41      2   True    29  70.7317\n",
      "24      158      2   True   115  72.7848\n",
      "25      273      2   True   239  87.5458\n",
      "26      215      2   True   201  93.4884\n"
     ]
    }
   ],
   "source": [
    "df = train_predict.groupby('label').correct.describe()\n",
    "df['acc'] = 100 * df['freq']/df['count']\n",
    "print(df)"
   ]
  },
  {
   "cell_type": "code",
   "execution_count": 80,
   "metadata": {},
   "outputs": [
    {
     "name": "stdout",
     "output_type": "stream",
     "text": [
      "label\n",
      "18    97.265336\n",
      "10    96.322870\n",
      "15    95.663957\n",
      "7     95.433790\n",
      "6     94.720497\n",
      "26    93.488372\n",
      "9     90.909091\n",
      "20    90.085679\n",
      "3     88.235294\n",
      "14    88.235294\n",
      "19    87.607573\n",
      "25    87.545788\n",
      "21    86.995516\n",
      "1     86.928105\n",
      "4     80.357143\n",
      "5     79.411765\n",
      "11    74.782609\n",
      "24    72.784810\n",
      "23    70.731707\n",
      "13    68.918919\n",
      "22    64.864865\n",
      "16    64.000000\n",
      "2     50.000000\n",
      "17    21.428571\n",
      "12     0.000000\n",
      "dtype: float64\n"
     ]
    }
   ],
   "source": [
    "print(class_accuracy(train_predict))"
   ]
  },
  {
   "cell_type": "code",
   "execution_count": 81,
   "metadata": {},
   "outputs": [
    {
     "name": "stdout",
     "output_type": "stream",
     "text": [
      "label\n",
      "10    91.117093\n",
      "18    90.243902\n",
      "15    87.804878\n",
      "7     87.671233\n",
      "26    84.507042\n",
      "6     84.161491\n",
      "14    82.500000\n",
      "9     75.675676\n",
      "5     73.913043\n",
      "3     72.727273\n",
      "1     68.627451\n",
      "25    67.032967\n",
      "21    66.216216\n",
      "24    66.037736\n",
      "20    64.705882\n",
      "11    60.526316\n",
      "19    56.994819\n",
      "13    48.000000\n",
      "4     42.105263\n",
      "16    41.176471\n",
      "22    33.333333\n",
      "23    28.571429\n",
      "12     0.000000\n",
      "17     0.000000\n",
      "2      0.000000\n",
      "dtype: float64\n"
     ]
    }
   ],
   "source": [
    "print(class_accuracy(dev_predict))"
   ]
  },
  {
   "cell_type": "code",
   "execution_count": 82,
   "metadata": {},
   "outputs": [
    {
     "name": "stdout",
     "output_type": "stream",
     "text": [
      "label\n",
      "10    91.129032\n",
      "18    90.586932\n",
      "15    86.991870\n",
      "7     86.818182\n",
      "6     85.758514\n",
      "26    80.555556\n",
      "14    79.487179\n",
      "5     77.272727\n",
      "25    70.652174\n",
      "4     66.666667\n",
      "20    64.835165\n",
      "13    62.500000\n",
      "9     62.162162\n",
      "1     60.784314\n",
      "11    60.526316\n",
      "22    58.333333\n",
      "21    57.333333\n",
      "19    57.216495\n",
      "3     54.545455\n",
      "24    51.923077\n",
      "16    50.000000\n",
      "23    38.461538\n",
      "17    22.222222\n",
      "12     0.000000\n",
      "2      0.000000\n",
      "dtype: float64\n"
     ]
    }
   ],
   "source": [
    "print(class_accuracy(test_predict))"
   ]
  },
  {
   "cell_type": "markdown",
   "metadata": {},
   "source": [
    "## Wrong predictions"
   ]
  },
  {
   "cell_type": "markdown",
   "metadata": {},
   "source": [
    "## Label 12"
   ]
  },
  {
   "cell_type": "code",
   "execution_count": null,
   "metadata": {},
   "outputs": [],
   "source": []
  }
 ],
 "metadata": {
  "kernelspec": {
   "display_name": "Python (bert)",
   "language": "python",
   "name": "bert"
  },
  "language_info": {
   "codemirror_mode": {
    "name": "ipython",
    "version": 3
   },
   "file_extension": ".py",
   "mimetype": "text/x-python",
   "name": "python",
   "nbconvert_exporter": "python",
   "pygments_lexer": "ipython3",
   "version": "3.6.7"
  }
 },
 "nbformat": 4,
 "nbformat_minor": 2
}

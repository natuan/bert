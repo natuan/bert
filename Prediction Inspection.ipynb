{
 "cells": [
  {
   "cell_type": "code",
   "execution_count": 1,
   "metadata": {},
   "outputs": [],
   "source": [
    "import os\n",
    "import pandas as pd\n",
    "import matplotlib.pyplot as plt\n",
    "import seaborn as sns"
   ]
  },
  {
   "cell_type": "code",
   "execution_count": 15,
   "metadata": {},
   "outputs": [],
   "source": [
    "SESSION_DIR = '/Users/tnguyen/src/bert/JUL17_B/'\n",
    "OUTPUT_DIR = os.path.join(SESSION_DIR, 'outputs_drop04_lr01e-5')"
   ]
  },
  {
   "cell_type": "markdown",
   "metadata": {},
   "source": [
    "# Training data set"
   ]
  },
  {
   "cell_type": "code",
   "execution_count": 3,
   "metadata": {},
   "outputs": [],
   "source": [
    "train_df = pd.read_csv(os.path.join(SESSION_DIR, 'train.csv'))\n",
    "dev_df = pd.read_csv(os.path.join(SESSION_DIR, 'dev.csv'))\n",
    "train_df = pd.concat([train_df, dev_df])"
   ]
  },
  {
   "cell_type": "code",
   "execution_count": 4,
   "metadata": {},
   "outputs": [
    {
     "data": {
      "text/html": [
       "<div>\n",
       "<style scoped>\n",
       "    .dataframe tbody tr th:only-of-type {\n",
       "        vertical-align: middle;\n",
       "    }\n",
       "\n",
       "    .dataframe tbody tr th {\n",
       "        vertical-align: top;\n",
       "    }\n",
       "\n",
       "    .dataframe thead th {\n",
       "        text-align: right;\n",
       "    }\n",
       "</style>\n",
       "<table border=\"1\" class=\"dataframe\">\n",
       "  <thead>\n",
       "    <tr style=\"text-align: right;\">\n",
       "      <th></th>\n",
       "      <th>job_id</th>\n",
       "      <th>job_text</th>\n",
       "      <th>level1_id</th>\n",
       "    </tr>\n",
       "  </thead>\n",
       "  <tbody>\n",
       "    <tr>\n",
       "      <th>0</th>\n",
       "      <td>5aff17d812f61b67f06afc3a</td>\n",
       "      <td>sr information architect ¥ summary role evalua...</td>\n",
       "      <td>18</td>\n",
       "    </tr>\n",
       "    <tr>\n",
       "      <th>1</th>\n",
       "      <td>5898ea11bcaee36edce75244</td>\n",
       "      <td>iam controls compliance analyst ¥ position sum...</td>\n",
       "      <td>20</td>\n",
       "    </tr>\n",
       "    <tr>\n",
       "      <th>2</th>\n",
       "      <td>57fffbfad20baf05d08aa807</td>\n",
       "      <td>maintenance manager ¥ maintenance manager come...</td>\n",
       "      <td>15</td>\n",
       "    </tr>\n",
       "    <tr>\n",
       "      <th>3</th>\n",
       "      <td>5bc7645b12f61b65c930c786</td>\n",
       "      <td>supervisor utilization management rn preferred...</td>\n",
       "      <td>16</td>\n",
       "    </tr>\n",
       "    <tr>\n",
       "      <th>4</th>\n",
       "      <td>5a8afab012f61b09d6217d68</td>\n",
       "      <td>oconus support engineer ¥ opportunity support ...</td>\n",
       "      <td>19</td>\n",
       "    </tr>\n",
       "  </tbody>\n",
       "</table>\n",
       "</div>"
      ],
      "text/plain": [
       "                     job_id  \\\n",
       "0  5aff17d812f61b67f06afc3a   \n",
       "1  5898ea11bcaee36edce75244   \n",
       "2  57fffbfad20baf05d08aa807   \n",
       "3  5bc7645b12f61b65c930c786   \n",
       "4  5a8afab012f61b09d6217d68   \n",
       "\n",
       "                                            job_text  level1_id  \n",
       "0  sr information architect ¥ summary role evalua...         18  \n",
       "1  iam controls compliance analyst ¥ position sum...         20  \n",
       "2  maintenance manager ¥ maintenance manager come...         15  \n",
       "3  supervisor utilization management rn preferred...         16  \n",
       "4  oconus support engineer ¥ opportunity support ...         19  "
      ]
     },
     "execution_count": 4,
     "metadata": {},
     "output_type": "execute_result"
    }
   ],
   "source": [
    "train_df.head()"
   ]
  },
  {
   "cell_type": "markdown",
   "metadata": {},
   "source": [
    "## Number of jobs per class"
   ]
  },
  {
   "cell_type": "code",
   "execution_count": 13,
   "metadata": {},
   "outputs": [
    {
     "data": {
      "image/png": "[encoded data removed]",
      "text/plain": [
       "<Figure size 1080x576 with 1 Axes>"
      ]
     },
     "metadata": {
      "needs_background": "light"
     },
     "output_type": "display_data"
    }
   ],
   "source": [
    "jobs_count, ax = plt.subplots(figsize=(15, 8))\n",
    "ax = sns.countplot('level1_id', data=train_df)\n",
    "ax.set_title('Counts of jobs per class')\n",
    "ax.set_xlabel('Level 1 label')\n",
    "ax.set_ylabel('Number of jobs')\n",
    "plt.show()"
   ]
  },
  {
   "cell_type": "markdown",
   "metadata": {},
   "source": [
    "# Prediction"
   ]
  },
  {
   "cell_type": "code",
   "execution_count": 16,
   "metadata": {},
   "outputs": [],
   "source": [
    "train_predict = pd.read_csv(os.path.join(OUTPUT_DIR, 'train_predict.csv'))"
   ]
  },
  {
   "cell_type": "code",
   "execution_count": 22,
   "metadata": {},
   "outputs": [],
   "source": [
    "train_predict['correct'] = train_predict['predicted_label'] == train_predict['label']"
   ]
  },
  {
   "cell_type": "code",
   "execution_count": 23,
   "metadata": {},
   "outputs": [
    {
     "data": {
      "text/html": [
       "<div>\n",
       "<style scoped>\n",
       "    .dataframe tbody tr th:only-of-type {\n",
       "        vertical-align: middle;\n",
       "    }\n",
       "\n",
       "    .dataframe tbody tr th {\n",
       "        vertical-align: top;\n",
       "    }\n",
       "\n",
       "    .dataframe thead th {\n",
       "        text-align: right;\n",
       "    }\n",
       "</style>\n",
       "<table border=\"1\" class=\"dataframe\">\n",
       "  <thead>\n",
       "    <tr style=\"text-align: right;\">\n",
       "      <th></th>\n",
       "      <th>job_id</th>\n",
       "      <th>predicted_label</th>\n",
       "      <th>label</th>\n",
       "      <th>correct</th>\n",
       "    </tr>\n",
       "  </thead>\n",
       "  <tbody>\n",
       "    <tr>\n",
       "      <th>0</th>\n",
       "      <td>5aff17d812f61b67f06afc3a</td>\n",
       "      <td>18</td>\n",
       "      <td>18</td>\n",
       "      <td>True</td>\n",
       "    </tr>\n",
       "    <tr>\n",
       "      <th>1</th>\n",
       "      <td>5898ea11bcaee36edce75244</td>\n",
       "      <td>18</td>\n",
       "      <td>20</td>\n",
       "      <td>False</td>\n",
       "    </tr>\n",
       "    <tr>\n",
       "      <th>2</th>\n",
       "      <td>57fffbfad20baf05d08aa807</td>\n",
       "      <td>15</td>\n",
       "      <td>15</td>\n",
       "      <td>True</td>\n",
       "    </tr>\n",
       "    <tr>\n",
       "      <th>3</th>\n",
       "      <td>5bc7645b12f61b65c930c786</td>\n",
       "      <td>7</td>\n",
       "      <td>16</td>\n",
       "      <td>False</td>\n",
       "    </tr>\n",
       "    <tr>\n",
       "      <th>4</th>\n",
       "      <td>5a8afab012f61b09d6217d68</td>\n",
       "      <td>18</td>\n",
       "      <td>19</td>\n",
       "      <td>False</td>\n",
       "    </tr>\n",
       "  </tbody>\n",
       "</table>\n",
       "</div>"
      ],
      "text/plain": [
       "                     job_id  predicted_label  label  correct\n",
       "0  5aff17d812f61b67f06afc3a               18     18     True\n",
       "1  5898ea11bcaee36edce75244               18     20    False\n",
       "2  57fffbfad20baf05d08aa807               15     15     True\n",
       "3  5bc7645b12f61b65c930c786                7     16    False\n",
       "4  5a8afab012f61b09d6217d68               18     19    False"
      ]
     },
     "execution_count": 23,
     "metadata": {},
     "output_type": "execute_result"
    }
   ],
   "source": [
    "train_predict.head()"
   ]
  },
  {
   "cell_type": "markdown",
   "metadata": {},
   "source": [
    "## Percentage of correct prediction on training set"
   ]
  },
  {
   "cell_type": "code",
   "execution_count": 24,
   "metadata": {},
   "outputs": [
    {
     "name": "stdout",
     "output_type": "stream",
     "text": [
      "label\n",
      "1      153\n",
      "2        4\n",
      "3       34\n",
      "4       56\n",
      "5       68\n",
      "6      966\n",
      "7      657\n",
      "9      110\n",
      "10    2230\n",
      "11     115\n",
      "12      15\n",
      "13      74\n",
      "14     119\n",
      "15     369\n",
      "16      50\n",
      "17      28\n",
      "18    2706\n",
      "19     581\n",
      "20     817\n",
      "21     223\n",
      "22      37\n",
      "23      41\n",
      "24     158\n",
      "25     273\n",
      "26     215\n",
      "Name: predicted_label, dtype: int64\n"
     ]
    }
   ],
   "source": [
    "print(train_predict.groupby('label').predicted_label.count())"
   ]
  },
  {
   "cell_type": "code",
   "execution_count": 27,
   "metadata": {},
   "outputs": [
    {
     "name": "stdout",
     "output_type": "stream",
     "text": [
      "      count unique    top  freq\n",
      "label                          \n",
      "1       153      2   True   133\n",
      "2         4      2   True     2\n",
      "3        34      2   True    30\n",
      "4        56      2   True    45\n",
      "5        68      2   True    54\n",
      "6       966      2   True   915\n",
      "7       657      2   True   627\n",
      "9       110      2   True   100\n",
      "10     2230      2   True  2148\n",
      "11      115      2   True    86\n",
      "12       15      1  False    15\n",
      "13       74      2   True    51\n",
      "14      119      2   True   105\n",
      "15      369      2   True   353\n",
      "16       50      2   True    32\n",
      "17       28      2  False    22\n",
      "18     2706      2   True  2632\n",
      "19      581      2   True   509\n",
      "20      817      2   True   736\n",
      "21      223      2   True   194\n",
      "22       37      2   True    24\n",
      "23       41      2   True    29\n",
      "24      158      2   True   115\n",
      "25      273      2   True   239\n",
      "26      215      2   True   201\n"
     ]
    }
   ],
   "source": [
    "df = train_predict.groupby('label').correct.describe()\n",
    "\n",
    "print(train_predict.groupby('label').correct.describe())"
   ]
  },
  {
   "cell_type": "code",
   "execution_count": null,
   "metadata": {},
   "outputs": [],
   "source": []
  }
 ],
 "metadata": {
  "kernelspec": {
   "display_name": "Python (bert)",
   "language": "python",
   "name": "bert"
  },
  "language_info": {
   "codemirror_mode": {
    "name": "ipython",
    "version": 3
   },
   "file_extension": ".py",
   "mimetype": "text/x-python",
   "name": "python",
   "nbconvert_exporter": "python",
   "pygments_lexer": "ipython3",
   "version": "3.6.7"
  }
 },
 "nbformat": 4,
 "nbformat_minor": 2
}
